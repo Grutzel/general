{
 "cells": [
  {
   "cell_type": "code",
   "execution_count": 75,
   "id": "7becf613-07df-4980-ae5b-b17d00a09050",
   "metadata": {},
   "outputs": [
    {
     "name": "stdout",
     "output_type": "stream",
     "text": [
      "Requirement already satisfied: lancedb in c:\\users\\alexa\\envs\\udacity\\lib\\site-packages (0.9.0)\n",
      "Requirement already satisfied: openai in c:\\users\\alexa\\envs\\udacity\\lib\\site-packages (1.35.13)\n",
      "Requirement already satisfied: pandas in c:\\users\\alexa\\envs\\udacity\\lib\\site-packages (2.2.2)\n",
      "Requirement already satisfied: pyarrow in c:\\users\\alexa\\envs\\udacity\\lib\\site-packages (15.0.0)\n",
      "Requirement already satisfied: tqdm>=4.27.0 in c:\\users\\alexa\\envs\\udacity\\lib\\site-packages (from lancedb) (4.66.4)\n",
      "Requirement already satisfied: cachetools in c:\\users\\alexa\\envs\\udacity\\lib\\site-packages (from lancedb) (5.3.3)\n",
      "Requirement already satisfied: overrides>=0.7 in c:\\users\\alexa\\envs\\udacity\\lib\\site-packages (from lancedb) (7.7.0)\n",
      "Requirement already satisfied: requests>=2.31.0 in c:\\users\\alexa\\envs\\udacity\\lib\\site-packages (from lancedb) (2.32.3)\n",
      "Requirement already satisfied: ratelimiter~=1.0 in c:\\users\\alexa\\envs\\udacity\\lib\\site-packages (from lancedb) (1.2.0.post0)\n",
      "Requirement already satisfied: deprecation in c:\\users\\alexa\\envs\\udacity\\lib\\site-packages (from lancedb) (2.1.0)\n",
      "Requirement already satisfied: pydantic>=1.10 in c:\\users\\alexa\\envs\\udacity\\lib\\site-packages (from lancedb) (2.8.2)\n",
      "Requirement already satisfied: attrs>=21.3.0 in c:\\users\\alexa\\envs\\udacity\\lib\\site-packages (from lancedb) (23.2.0)\n",
      "Requirement already satisfied: pylance==0.13.0 in c:\\users\\alexa\\envs\\udacity\\lib\\site-packages (from lancedb) (0.13.0)\n",
      "Requirement already satisfied: packaging in c:\\users\\alexa\\envs\\udacity\\lib\\site-packages (from lancedb) (24.1)\n",
      "Requirement already satisfied: retry>=0.9.2 in c:\\users\\alexa\\envs\\udacity\\lib\\site-packages (from lancedb) (0.9.2)\n",
      "Requirement already satisfied: numpy>=1.22 in c:\\users\\alexa\\envs\\udacity\\lib\\site-packages (from pylance==0.13.0->lancedb) (1.26.4)\n",
      "Requirement already satisfied: distro<2,>=1.7.0 in c:\\users\\alexa\\envs\\udacity\\lib\\site-packages (from openai) (1.9.0)\n",
      "Requirement already satisfied: sniffio in c:\\users\\alexa\\envs\\udacity\\lib\\site-packages (from openai) (1.3.1)\n",
      "Requirement already satisfied: httpx<1,>=0.23.0 in c:\\users\\alexa\\envs\\udacity\\lib\\site-packages (from openai) (0.27.0)\n",
      "Requirement already satisfied: typing-extensions<5,>=4.7 in c:\\users\\alexa\\envs\\udacity\\lib\\site-packages (from openai) (4.12.2)\n",
      "Requirement already satisfied: anyio<5,>=3.5.0 in c:\\users\\alexa\\envs\\udacity\\lib\\site-packages (from openai) (4.4.0)\n",
      "Requirement already satisfied: tzdata>=2022.7 in c:\\users\\alexa\\envs\\udacity\\lib\\site-packages (from pandas) (2024.1)\n",
      "Requirement already satisfied: pytz>=2020.1 in c:\\users\\alexa\\envs\\udacity\\lib\\site-packages (from pandas) (2024.1)\n",
      "Requirement already satisfied: python-dateutil>=2.8.2 in c:\\users\\alexa\\envs\\udacity\\lib\\site-packages (from pandas) (2.9.0.post0)\n",
      "Requirement already satisfied: idna>=2.8 in c:\\users\\alexa\\envs\\udacity\\lib\\site-packages (from anyio<5,>=3.5.0->openai) (3.7)\n",
      "Requirement already satisfied: exceptiongroup>=1.0.2 in c:\\users\\alexa\\envs\\udacity\\lib\\site-packages (from anyio<5,>=3.5.0->openai) (1.2.1)\n",
      "Requirement already satisfied: httpcore==1.* in c:\\users\\alexa\\envs\\udacity\\lib\\site-packages (from httpx<1,>=0.23.0->openai) (1.0.5)\n",
      "Requirement already satisfied: certifi in c:\\users\\alexa\\envs\\udacity\\lib\\site-packages (from httpx<1,>=0.23.0->openai) (2024.7.4)\n",
      "Requirement already satisfied: h11<0.15,>=0.13 in c:\\users\\alexa\\envs\\udacity\\lib\\site-packages (from httpcore==1.*->httpx<1,>=0.23.0->openai) (0.14.0)\n",
      "Requirement already satisfied: annotated-types>=0.4.0 in c:\\users\\alexa\\envs\\udacity\\lib\\site-packages (from pydantic>=1.10->lancedb) (0.7.0)\n",
      "Requirement already satisfied: pydantic-core==2.20.1 in c:\\users\\alexa\\envs\\udacity\\lib\\site-packages (from pydantic>=1.10->lancedb) (2.20.1)\n",
      "Requirement already satisfied: six>=1.5 in c:\\users\\alexa\\envs\\udacity\\lib\\site-packages (from python-dateutil>=2.8.2->pandas) (1.16.0)\n",
      "Requirement already satisfied: charset-normalizer<4,>=2 in c:\\users\\alexa\\envs\\udacity\\lib\\site-packages (from requests>=2.31.0->lancedb) (3.3.2)\n",
      "Requirement already satisfied: urllib3<3,>=1.21.1 in c:\\users\\alexa\\envs\\udacity\\lib\\site-packages (from requests>=2.31.0->lancedb) (2.2.2)\n",
      "Requirement already satisfied: py<2.0.0,>=1.4.26 in c:\\users\\alexa\\envs\\udacity\\lib\\site-packages (from retry>=0.9.2->lancedb) (1.11.0)\n",
      "Requirement already satisfied: decorator>=3.4.2 in c:\\users\\alexa\\envs\\udacity\\lib\\site-packages (from retry>=0.9.2->lancedb) (5.1.1)\n",
      "Requirement already satisfied: colorama in c:\\users\\alexa\\envs\\udacity\\lib\\site-packages (from tqdm>=4.27.0->lancedb) (0.4.6)\n"
     ]
    },
    {
     "name": "stderr",
     "output_type": "stream",
     "text": [
      "WARNING: You are using pip version 21.2.3; however, version 24.1.2 is available.\n",
      "You should consider upgrading via the 'C:\\Users\\Alexa\\envs\\udacity\\Scripts\\python.exe -m pip install --upgrade pip' command.\n"
     ]
    }
   ],
   "source": [
    "!pip install lancedb openai pandas pyarrow"
   ]
  },
  {
   "cell_type": "code",
   "execution_count": 1,
   "id": "e03e6dd5-cbea-481e-94ff-85ebbc181fcb",
   "metadata": {},
   "outputs": [],
   "source": [
    "import openai\n",
    "import os\n",
    "import random\n"
   ]
  },
  {
   "cell_type": "code",
   "execution_count": 2,
   "id": "89c1178b-bead-47c1-aa40-1faabda93b58",
   "metadata": {},
   "outputs": [],
   "source": [
    "# Replace with your actual OpenAI API key\n",
    "openai.api_key = os.environ.get('openai_key')"
   ]
  },
  {
   "cell_type": "code",
   "execution_count": 3,
   "id": "1ee9a6b0-7955-4160-941d-3b48ee5bf30f",
   "metadata": {},
   "outputs": [
    {
     "data": {
      "text/plain": [
       "{'Green Oaks': 'Green Oaks is a charming suburban neighborhood known for its tree-lined streets and peaceful atmosphere. The community is characterized by large, well-maintained homes on spacious lots, perfect for families seeking a serene living environment. Residents enjoy easy access to parks, schools, and shopping centers, making it a highly desirable area to live in.',\n",
       " 'Blue Lagoon': 'Blue Lagoon is a picturesque and peaceful neighborhood nestled in a suburban area with lush greenery and serene water features. The community is known for its well-maintained homes, beautiful landscaping, and family-friendly atmosphere. Residents enjoy a tranquil environment while still being conveniently located near shopping centers, restaurants, and major highways for easy commuting. The neighborhood also offers amenities such as a clubhouse, swimming pool, and walking trails for recreational activities.',\n",
       " 'Silver City': 'Silver City is a charming neighborhood known for its historic architecture and diverse community. The area features tree-lined streets, beautiful parks, and a mix of residential homes and small businesses. Residents enjoy easy access to local restaurants, shops, and cultural attractions, making it a vibrant and lively place to live. Additionally, Silver City has a strong sense of community spirit and hosts various events and festivals throughout the year.'}"
      ]
     },
     "execution_count": 3,
     "metadata": {},
     "output_type": "execute_result"
    }
   ],
   "source": [
    "neighborhoods = [\"Green Oaks\", \"Blue Lagoon\", \"Silver City\"]\n",
    "neighborhood_dict = {}\n",
    "def get_description_for_neighborhood(neighborhood):    \n",
    "    neighborhood_description_prompt = f\"\"\"\n",
    "    Describe the neighborhood {neighborhood} in a few sentences.\n",
    "    \"\"\"\n",
    "    \n",
    "    neighborhood_description_response = openai.chat.completions.create(\n",
    "        model=\"gpt-3.5-turbo\",\n",
    "        messages=[\n",
    "            {\"role\": \"system\", \"content\": \"You are a real estate assistant.\"},\n",
    "            {\"role\": \"user\", \"content\": neighborhood_description_prompt}\n",
    "        ],\n",
    "    )\n",
    "\n",
    "    return neighborhood_description_response.choices[0].message.content.strip()\n",
    "\n",
    "for neighborhood in neighborhoods:\n",
    "    neighborhood_dict[neighborhood] = get_description_for_neighborhood(neighborhood)\n",
    "\n",
    "neighborhood_dict"
   ]
  },
  {
   "cell_type": "code",
   "execution_count": 4,
   "id": "71b9271f-d01b-4e3f-9b26-a43590704f07",
   "metadata": {},
   "outputs": [
    {
     "name": "stdout",
     "output_type": "stream",
     "text": [
      "Listing 1:\n",
      "Neighborhood: Green Oaks\n",
      "Price: 220999\n",
      "Bedrooms: 1\n",
      "Bathrooms: 1\n",
      "HouseSize: 646\n",
      "Description: Located in the desirable Green Oaks neighborhood, this charming house is the perfect opportunity for a first-time homebuyer or someone looking to downsize. Priced at $220,999, this cozy home features 1 bedroom and 1 bathroom, with a total living space of 646 square feet. The property offers a low-maintenance lifestyle in a peaceful and convenient location.\n",
      "NeighborhoodDescription: Green Oaks is a charming suburban neighborhood known for its tree-lined streets and peaceful atmosphere. The community is characterized by large, well-maintained homes on spacious lots, perfect for families seeking a serene living environment. Residents enjoy easy access to parks, schools, and shopping centers, making it a highly desirable area to live in.\n",
      "\n",
      "\n",
      "Listing 2:\n",
      "Neighborhood: Blue Lagoon\n",
      "Price: 144126\n",
      "Bedrooms: 3\n",
      "Bathrooms: 3\n",
      "HouseSize: 3877\n",
      "Description: This stunning property is located in the desirable Blue Lagoon neighborhood and is priced at $144,126. The house features 3 bedrooms and 3 bathrooms, offering ample living space for a family or individuals who enjoy spacious accommodations. With a generous house size of 3,877 square feet, this home provides plenty of room for relaxation and entertainment. The neighborhood of Blue Lagoon is known for its picturesque surroundings and close-knit community, making it an ideal place to call home.\n",
      "NeighborhoodDescription: Blue Lagoon is a picturesque and peaceful neighborhood nestled in a suburban area with lush greenery and serene water features. The community is known for its well-maintained homes, beautiful landscaping, and family-friendly atmosphere. Residents enjoy a tranquil environment while still being conveniently located near shopping centers, restaurants, and major highways for easy commuting. The neighborhood also offers amenities such as a clubhouse, swimming pool, and walking trails for recreational activities.\n",
      "\n",
      "\n",
      "Listing 3:\n",
      "Neighborhood: Green Oaks\n",
      "Price: 1752185\n",
      "Bedrooms: 5\n",
      "Bathrooms: 2\n",
      "HouseSize: 4158\n",
      "Description: This spacious 5-bedroom, 2-bathroom home is located in the desirable neighborhood of Green Oaks. With a generous house size of 4158 square feet, this property offers ample space for comfortable living. The house is listed at a price of $1,752,185, making it an exquisite investment opportunity for those looking for a luxurious and well-appointed home in this sought-after area.\n",
      "NeighborhoodDescription: Green Oaks is a charming suburban neighborhood known for its tree-lined streets and peaceful atmosphere. The community is characterized by large, well-maintained homes on spacious lots, perfect for families seeking a serene living environment. Residents enjoy easy access to parks, schools, and shopping centers, making it a highly desirable area to live in.\n",
      "\n",
      "\n",
      "Listing 4:\n",
      "Neighborhood: Silver City\n",
      "Price: 1590474\n",
      "Bedrooms: 5\n",
      "Bathrooms: 5\n",
      "HouseSize: 860\n",
      "Description: This stunning house is located in the desirable neighborhood of Silver City. It boasts 5 bedrooms and 5 bathrooms, making it perfect for a large family or for those who love to entertain guests. With a spacious house size of 860 square feet, there is plenty of room to move around and create your ideal living space. The property is listed at an attractive price of $1,590,474, offering a combination of luxury and comfort in a prime location. Don't miss the opportunity to call this beautiful house your home.\n",
      "NeighborhoodDescription: Silver City is a charming neighborhood known for its historic architecture and diverse community. The area features tree-lined streets, beautiful parks, and a mix of residential homes and small businesses. Residents enjoy easy access to local restaurants, shops, and cultural attractions, making it a vibrant and lively place to live. Additionally, Silver City has a strong sense of community spirit and hosts various events and festivals throughout the year.\n",
      "\n",
      "\n",
      "Listing 5:\n",
      "Neighborhood: Green Oaks\n",
      "Price: 1571585\n",
      "Bedrooms: 2\n",
      "Bathrooms: 2\n",
      "HouseSize: 1972\n",
      "Description: I'd be happy to describe a house that fits those attributes:\n",
      "\n",
      "This charming home is located in the prestigious Green Oaks neighborhood, known for its lush greenery and peaceful surroundings. Priced at $1,571,585, this elegantly designed house features 2 bedrooms and 2 bathrooms, perfect for a small family or a couple looking for a cozy space. With a generous house size of 1,972 square feet, there is ample room for comfortable living and entertaining guests. The neighborhood offers a sense of tranquility while being conveniently close to amenities.\n",
      "NeighborhoodDescription: Green Oaks is a charming suburban neighborhood known for its tree-lined streets and peaceful atmosphere. The community is characterized by large, well-maintained homes on spacious lots, perfect for families seeking a serene living environment. Residents enjoy easy access to parks, schools, and shopping centers, making it a highly desirable area to live in.\n",
      "\n",
      "\n",
      "Listing 6:\n",
      "Neighborhood: Silver City\n",
      "Price: 1098650\n",
      "Bedrooms: 2\n",
      "Bathrooms: 2\n",
      "HouseSize: 3748\n",
      "Description: Certainly! Here is a description of the house with the specified attributes:\n",
      "\n",
      "This elegant home is located in the sought-after neighborhood of Silver City, offering a perfect blend of luxury and comfort. Priced at $1,098,650, this exquisite residence features 2 spacious bedrooms and 2 modern bathrooms, ideal for those seeking a cozy yet sophisticated living space.\n",
      "\n",
      "With a generous house size of 3,748 square feet, the property boasts ample room for relaxation and entertainment. The interior is thoughtfully designed with high-end finishes and stylish touches throughout, creating a welcoming and inviting atmosphere for its residents.\n",
      "\n",
      "This house in Silver City presents a rare opportunity to own a stunning property in a desirable location, making it the perfect place to call home.\n",
      "NeighborhoodDescription: Silver City is a charming neighborhood known for its historic architecture and diverse community. The area features tree-lined streets, beautiful parks, and a mix of residential homes and small businesses. Residents enjoy easy access to local restaurants, shops, and cultural attractions, making it a vibrant and lively place to live. Additionally, Silver City has a strong sense of community spirit and hosts various events and festivals throughout the year.\n",
      "\n",
      "\n",
      "Listing 7:\n",
      "Neighborhood: Silver City\n",
      "Price: 319274\n",
      "Bedrooms: 1\n",
      "Bathrooms: 1\n",
      "HouseSize: 1662\n",
      "Description: This cozy one-bedroom, one-bathroom home is located in the charming neighborhood of Silver City. With a price tag of $319,274, this property offers a comfortable living space spanning 1,662 square feet. The house features a modern design and is ideal for individuals or couples looking for a stylish, low-maintenance home in a desirable neighborhood.\n",
      "NeighborhoodDescription: Silver City is a charming neighborhood known for its historic architecture and diverse community. The area features tree-lined streets, beautiful parks, and a mix of residential homes and small businesses. Residents enjoy easy access to local restaurants, shops, and cultural attractions, making it a vibrant and lively place to live. Additionally, Silver City has a strong sense of community spirit and hosts various events and festivals throughout the year.\n",
      "\n",
      "\n",
      "Listing 8:\n",
      "Neighborhood: Blue Lagoon\n",
      "Price: 1926315\n",
      "Bedrooms: 2\n",
      "Bathrooms: 1\n",
      "HouseSize: 1514\n",
      "Description: This charming house is located in the sought-after Blue Lagoon neighborhood. Priced at $1,926,315, this cozy home features 2 bedrooms and 1 bathroom, spread across 1,514 square feet of living space. The house offers a perfect blend of comfort and functionality in a desirable and vibrant neighborhood.\n",
      "NeighborhoodDescription: Blue Lagoon is a picturesque and peaceful neighborhood nestled in a suburban area with lush greenery and serene water features. The community is known for its well-maintained homes, beautiful landscaping, and family-friendly atmosphere. Residents enjoy a tranquil environment while still being conveniently located near shopping centers, restaurants, and major highways for easy commuting. The neighborhood also offers amenities such as a clubhouse, swimming pool, and walking trails for recreational activities.\n",
      "\n",
      "\n",
      "Listing 9:\n",
      "Neighborhood: Silver City\n",
      "Price: 653109\n",
      "Bedrooms: 3\n",
      "Bathrooms: 3\n",
      "HouseSize: 1141\n",
      "Description: This charming house is located in the desirable Silver City neighborhood, known for its peaceful surroundings and friendly community. Priced at $653,109, this home features 3 bedrooms and 3 bathrooms, offering comfort and convenience for its residents. With a cozy house size of 1141 square feet, this property provides a perfect balance of space and functionality. The house is well-maintained and boasts modern amenities, making it an ideal place to call home in Silver City.\n",
      "NeighborhoodDescription: Silver City is a charming neighborhood known for its historic architecture and diverse community. The area features tree-lined streets, beautiful parks, and a mix of residential homes and small businesses. Residents enjoy easy access to local restaurants, shops, and cultural attractions, making it a vibrant and lively place to live. Additionally, Silver City has a strong sense of community spirit and hosts various events and festivals throughout the year.\n",
      "\n",
      "\n",
      "Listing 10:\n",
      "Neighborhood: Silver City\n",
      "Price: 1565399\n",
      "Bedrooms: 5\n",
      "Bathrooms: 1\n",
      "HouseSize: 3049\n",
      "Description: This stunning 5-bedroom, 1-bathroom house is located in the sought-after neighborhood of Silver City. Priced at $1,565,399, this spacious home boasts 3,049 square feet of living space. With ample room for a large family or those who enjoy entertaining, this property offers luxury and comfort in an ideal location. The house features modern amenities, high ceilings, and plenty of natural light throughout. The neighborhood of Silver City provides a peaceful and upscale atmosphere, making this house the perfect blend of elegance and convenience.\n",
      "NeighborhoodDescription: Silver City is a charming neighborhood known for its historic architecture and diverse community. The area features tree-lined streets, beautiful parks, and a mix of residential homes and small businesses. Residents enjoy easy access to local restaurants, shops, and cultural attractions, making it a vibrant and lively place to live. Additionally, Silver City has a strong sense of community spirit and hosts various events and festivals throughout the year.\n",
      "\n",
      "\n"
     ]
    }
   ],
   "source": [
    "def generate_house_listing(neighborhoods, neighborhood_descriptions):\n",
    "    neighborhood = random.choice(neighborhoods)\n",
    "    price = random.randint(10000, 2000000)\n",
    "    bedrooms = random.randint(1, 5)\n",
    "    bathrooms = random.randint(1, bedrooms)\n",
    "    house_size = random.randint(500, 5000)  # Assuming size is in square feet\n",
    "\n",
    "    description_prompt = f\"\"\"\n",
    "    Describe a house with the following attributes:\n",
    "    - Neighborhood: {neighborhood}\n",
    "    - Price: {price}\n",
    "    - Bedrooms: {bedrooms}\n",
    "    - Bathrooms: {bathrooms}\n",
    "    - House Size: {house_size} square feet\n",
    "    \"\"\"\n",
    "\n",
    "\n",
    "    description_response = openai.chat.completions.create(\n",
    "        model=\"gpt-3.5-turbo\",\n",
    "        messages=[\n",
    "            {\"role\": \"system\", \"content\": \"You are a real estate assistant.\"},\n",
    "            {\"role\": \"user\", \"content\": description_prompt}\n",
    "        ],\n",
    "        max_tokens=150\n",
    "    )\n",
    "\n",
    "    \n",
    "    description = description_response.choices[0].message.content.strip()\n",
    "\n",
    "    return {\n",
    "        \"Neighborhood\": neighborhood,\n",
    "        \"Price\": price,\n",
    "        \"Bedrooms\": bedrooms,\n",
    "        \"Bathrooms\": bathrooms,\n",
    "        \"HouseSize\": house_size,\n",
    "        \"Description\": description,\n",
    "        \"NeighborhoodDescription\": neighborhood_descriptions[neighborhood]\n",
    "    }\n",
    "\n",
    "def generate_listings(num_listings=10):\n",
    "    listings = [generate_house_listing(neighborhoods, neighborhood_dict) for _ in range(num_listings)]\n",
    "    return listings\n",
    "\n",
    "listings = generate_listings()\n",
    "\n",
    "for idx, listing in enumerate(listings, start=1):\n",
    "    print(f\"Listing {idx}:\")\n",
    "    for key, value in listing.items():\n",
    "        print(f\"{key}: {value}\")\n",
    "    print(\"\\n\")\n"
   ]
  },
  {
   "cell_type": "markdown",
   "id": "3c35511f-057a-4e55-a7ab-85bf6f01fcbc",
   "metadata": {},
   "source": [
    "# Step 3: Storing Listings in a Vector Database\n",
    "I use lancedb for this, because I already worked with it."
   ]
  },
  {
   "cell_type": "markdown",
   "id": "65f8b174-b1ef-44c7-b9e4-a1ed61a17dce",
   "metadata": {},
   "source": [
    "## 3.1 Create embeddings"
   ]
  },
  {
   "cell_type": "code",
   "execution_count": 5,
   "id": "5971ac42-261f-4e7e-90c3-e8871192daab",
   "metadata": {},
   "outputs": [],
   "source": [
    "def generate_embedding(text):\n",
    "    response = openai.embeddings.create(\n",
    "        input=str(text),\n",
    "        model=\"text-embedding-ada-002\"\n",
    "    )\n",
    "    return response.data[0].embedding"
   ]
  },
  {
   "cell_type": "code",
   "execution_count": 6,
   "id": "a086d271-7165-49b3-8df5-62c89362a045",
   "metadata": {},
   "outputs": [],
   "source": [
    "for listing in listings:\n",
    "    listing['embedding'] = generate_embedding(str(listing))"
   ]
  },
  {
   "cell_type": "code",
   "execution_count": null,
   "id": "851df47e-4014-42f3-8550-b8f29c25f6cd",
   "metadata": {},
   "outputs": [],
   "source": [
    "\n"
   ]
  },
  {
   "cell_type": "markdown",
   "id": "95360d46-8595-40d9-8be6-ad2fa48853c4",
   "metadata": {},
   "source": [
    "## 3.2 Setup lancedb"
   ]
  },
  {
   "cell_type": "code",
   "execution_count": 7,
   "id": "5222a339-2fda-421c-88e8-2274e3675ea2",
   "metadata": {},
   "outputs": [],
   "source": [
    "import lancedb\n",
    "from lancedb.pydantic import LanceModel, vector\n",
    "db = lancedb.connect(\"~/.lancedb\")"
   ]
  },
  {
   "cell_type": "code",
   "execution_count": 8,
   "id": "637c71d1-3877-4d81-8f59-d0f70b62263e",
   "metadata": {},
   "outputs": [],
   "source": [
    "class HouseListing(LanceModel):\n",
    "    embedding: vector(1536)\n",
    "    Neighborhood: str\n",
    "    Price: float\n",
    "    Bedrooms: int\n",
    "    Bathrooms: int\n",
    "    HouseSize: int\n",
    "    Description: str\n",
    "    NeighborhoodDescription: str"
   ]
  },
  {
   "cell_type": "code",
   "execution_count": 10,
   "id": "37627395-8cc9-4a10-9938-cc6f7dc92c26",
   "metadata": {},
   "outputs": [],
   "source": [
    "table = db.create_table(\"house_listings\", listings, schema=HouseListing, mode=\"overwrite\")"
   ]
  },
  {
   "cell_type": "markdown",
   "id": "48df84be-3860-44dd-808c-ab0bec0a32c0",
   "metadata": {},
   "source": [
    "## Step 4: Building the User Preference Interface"
   ]
  },
  {
   "cell_type": "code",
   "execution_count": null,
   "id": "3f8bc161-52f4-41d4-a4c3-b597ac51a951",
   "metadata": {},
   "outputs": [],
   "source": []
  }
 ],
 "metadata": {
  "kernelspec": {
   "display_name": "Python 3 (ipykernel)",
   "language": "python",
   "name": "python3"
  },
  "language_info": {
   "codemirror_mode": {
    "name": "ipython",
    "version": 3
   },
   "file_extension": ".py",
   "mimetype": "text/x-python",
   "name": "python",
   "nbconvert_exporter": "python",
   "pygments_lexer": "ipython3",
   "version": "3.9.7"
  }
 },
 "nbformat": 4,
 "nbformat_minor": 5
}
