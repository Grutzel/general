{
 "cells": [
  {
   "cell_type": "code",
   "execution_count": 1,
   "id": "e03e6dd5-cbea-481e-94ff-85ebbc181fcb",
   "metadata": {},
   "outputs": [],
   "source": [
    "import os\n",
    "import random\n",
    "from langchain.prompts import ChatPromptTemplate\n",
    "from langchain_openai import ChatOpenAI, OpenAIEmbeddings\n",
    "import pandas as pd"
   ]
  },
  {
   "cell_type": "code",
   "execution_count": 2,
   "id": "b4000538-accc-43d8-80c4-4fd0b131967e",
   "metadata": {},
   "outputs": [],
   "source": [
    "# Replace with your actual OpenAI API key\n",
    "# You might need to replace os.environ.get('openai_key') with your own OPEN_AI_KEY\n",
    "model_name = \"gpt-3.5-turbo\"\n",
    "temperature = 0.0\n",
    "llm = ChatOpenAI(model_name=model_name, openai_api_key=os.environ.get('openai_key'))\n",
    "embeddings_model  = OpenAIEmbeddings( openai_api_key=os.environ.get('openai_key'))"
   ]
  },
  {
   "cell_type": "code",
   "execution_count": 10,
   "id": "89c1178b-bead-47c1-aa40-1faabda93b58",
   "metadata": {},
   "outputs": [],
   "source": [
    "neighborhoods = [\"Green Oaks\", \"Blue Lagoon\", \"Silver City\"]"
   ]
  },
  {
   "cell_type": "code",
   "execution_count": 17,
   "id": "1ee9a6b0-7955-4160-941d-3b48ee5bf30f",
   "metadata": {},
   "outputs": [
    {
     "data": {
      "text/plain": [
       "{'Green Oaks': 'Green Oaks is a charming neighborhood located in the suburbs of a bustling city. The area is known for its top-rated schools, including Green Oaks Elementary and Green Oaks High School, providing excellent education opportunities for families. The neighborhood is dotted with cozy cafes and family-friendly restaurants, offering a variety of cuisines to choose from. The infrastructure in Green Oaks is well-maintained, with tree-lined streets, parks, and community centers that provide ample opportunities for outdoor activities and social gatherings. Overall, Green Oaks is a peaceful and welcoming neighborhood with a strong sense of community.',\n",
       " 'Blue Lagoon': 'Blue Lagoon is a vibrant neighborhood located near a picturesque lagoon, known for its peaceful atmosphere and stunning views. The area is home to several top-rated schools, making it a popular choice for families with children. There are also plenty of charming cafes and restaurants serving a variety of cuisine, from cozy brunch spots to upscale dining options. The infrastructure in Blue Lagoon is well-maintained, with clean streets, well-lit sidewalks, and easy access to public transportation. Overall, Blue Lagoon offers a perfect blend of residential charm and urban convenience.',\n",
       " 'Silver City': 'Silver City is a bustling neighborhood with a mix of residential and commercial areas. The local schools in the area are highly rated, offering quality education to students. There are several cozy cafes where residents can enjoy a cup of coffee or catch up with friends. The neighborhood also boasts a diverse range of restaurants, catering to various culinary preferences. In terms of infrastructure, Silver City has well-maintained roads and public transportation options, making it easy for residents to navigate the area. Overall, Silver City is a vibrant and welcoming community with plenty of amenities for its residents to enjoy.'}"
      ]
     },
     "execution_count": 17,
     "metadata": {},
     "output_type": "execute_result"
    }
   ],
   "source": [
    "\n",
    "neighborhood_dict = {}\n",
    "def get_description_for_neighborhood(neighborhood):    \n",
    "    neighborhood_description_prompt = ChatPromptTemplate.from_template(f\"\"\"\n",
    "    Describe the neighborhood {neighborhood} in a few sentences, include schools, cafes, restaurants and infrastructure.\n",
    "    \"\"\")\n",
    "    \n",
    "    return llm(neighborhood_description_prompt.format()).content\n",
    "\n",
    "for neighborhood in neighborhoods:\n",
    "    neighborhood_dict[neighborhood] = get_description_for_neighborhood(neighborhood)\n",
    "\n",
    "neighborhood_dict"
   ]
  },
  {
   "cell_type": "code",
   "execution_count": 18,
   "id": "71b9271f-d01b-4e3f-9b26-a43590704f07",
   "metadata": {},
   "outputs": [],
   "source": [
    "def generate_house_listing(neighborhoods, neighborhood_descriptions):\n",
    "    neighborhood = random.choice(neighborhoods)\n",
    "    price = random.randint(10000, 2000000)\n",
    "    bedrooms = random.randint(1, 5)\n",
    "    bathrooms = random.randint(1, bedrooms)\n",
    "    house_size = random.randint(500, 5000)  # Assuming size is in square feet\n",
    "\n",
    "    description_prompt = ChatPromptTemplate.from_template(f\"\"\"\n",
    "    Describe a house with the following attributes:\n",
    "    - Neighborhood: {neighborhood}\n",
    "    - Price: {price}\n",
    "    - Bedrooms: {bedrooms}\n",
    "    - Bathrooms: {bathrooms}\n",
    "    - House Size: {house_size} square feet\n",
    "    \"\"\")\n",
    "    \n",
    "    description = llm(description_prompt.format()).content\n",
    "\n",
    "    return {\n",
    "        \"Neighborhood\": neighborhood,\n",
    "        \"Price\": price,\n",
    "        \"Bedrooms\": bedrooms,\n",
    "        \"Bathrooms\": bathrooms,\n",
    "        \"HouseSize\": house_size,\n",
    "        \"Description\": description,\n",
    "        \"NeighborhoodDescription\": neighborhood_descriptions[neighborhood]\n",
    "    }\n",
    "\n",
    "def generate_listings(num_listings=10):\n",
    "    listings = [generate_house_listing(neighborhoods, neighborhood_dict) for _ in range(num_listings)]\n",
    "    return listings\n",
    "\n",
    "listings = generate_listings()\n"
   ]
  },
  {
   "cell_type": "code",
   "execution_count": null,
   "id": "d945f22f-2bb0-4162-b95f-c34fc3bb215c",
   "metadata": {},
   "outputs": [],
   "source": [
    "\n",
    "for idx, listing in enumerate(listings, start=1):\n",
    "    print(f\"Listing {idx}:\")\n",
    "    for key, value in listing.items():\n",
    "        print(f\"{key}: {value}\")\n",
    "    print(\"\\n\")\n"
   ]
  },
  {
   "cell_type": "code",
   "execution_count": 40,
   "id": "222b5719-5eba-43bb-8e4b-f5afe2d602d3",
   "metadata": {},
   "outputs": [],
   "source": [
    "pd.DataFrame(listings).to_csv('listings.csv', index=False)"
   ]
  },
  {
   "cell_type": "markdown",
   "id": "72117f1b-b84c-42d5-b65e-948e094c16ed",
   "metadata": {},
   "source": [
    "# Load the listings"
   ]
  },
  {
   "cell_type": "code",
   "execution_count": 3,
   "id": "47ea9ada-763f-4c4e-a922-0240f8c8730a",
   "metadata": {},
   "outputs": [],
   "source": [
    "df_listings = pd.read_csv('listings.csv')"
   ]
  },
  {
   "cell_type": "code",
   "execution_count": 4,
   "id": "9269ea23-8a6b-4de2-bd0a-58115803912b",
   "metadata": {},
   "outputs": [],
   "source": [
    "df_listings['house_id'] = df_listings.index"
   ]
  },
  {
   "cell_type": "markdown",
   "id": "3c35511f-057a-4e55-a7ab-85bf6f01fcbc",
   "metadata": {},
   "source": [
    "# Step 3: Storing Listings in a Vector Database\n",
    "I use lancedb for this, because I already worked with it."
   ]
  },
  {
   "cell_type": "markdown",
   "id": "65f8b174-b1ef-44c7-b9e4-a1ed61a17dce",
   "metadata": {},
   "source": [
    "## 3.1 Create embeddings"
   ]
  },
  {
   "cell_type": "code",
   "execution_count": 5,
   "id": "5971ac42-261f-4e7e-90c3-e8871192daab",
   "metadata": {},
   "outputs": [],
   "source": [
    "def generate_embedding(list_to_embed: list):\n",
    "    return embeddings_model.embed_documents(list_to_embed)"
   ]
  },
  {
   "cell_type": "code",
   "execution_count": 6,
   "id": "aed97de6-0c75-441b-9e1e-68e064edb2ed",
   "metadata": {},
   "outputs": [],
   "source": [
    "df_listings['embedding'] = df_listings.apply(lambda x: generate_embedding([str(x['Description'] + x['NeighborhoodDescription'])])[0], axis=1)"
   ]
  },
  {
   "cell_type": "markdown",
   "id": "95360d46-8595-40d9-8be6-ad2fa48853c4",
   "metadata": {},
   "source": [
    "## 3.2 Setup lancedb"
   ]
  },
  {
   "cell_type": "code",
   "execution_count": 7,
   "id": "5222a339-2fda-421c-88e8-2274e3675ea2",
   "metadata": {},
   "outputs": [],
   "source": [
    "import lancedb\n",
    "from lancedb.pydantic import LanceModel, vector\n",
    "db = lancedb.connect(\"~/.lancedb\")"
   ]
  },
  {
   "cell_type": "code",
   "execution_count": 8,
   "id": "637c71d1-3877-4d81-8f59-d0f70b62263e",
   "metadata": {},
   "outputs": [],
   "source": [
    "class HouseListing(LanceModel):\n",
    "    house_id: int\n",
    "    embedding: vector(1536)\n",
    "    Neighborhood: str\n",
    "    Price: float\n",
    "    Bedrooms: int\n",
    "    Bathrooms: int\n",
    "    HouseSize: int\n",
    "    Description: str\n",
    "    NeighborhoodDescription: str"
   ]
  },
  {
   "cell_type": "code",
   "execution_count": 9,
   "id": "37627395-8cc9-4a10-9938-cc6f7dc92c26",
   "metadata": {},
   "outputs": [],
   "source": [
    "table = db.create_table(\"house_listings\", df_listings, schema=HouseListing, mode=\"overwrite\")"
   ]
  },
  {
   "cell_type": "markdown",
   "id": "48df84be-3860-44dd-808c-ab0bec0a32c0",
   "metadata": {},
   "source": [
    "## Step 4: Building the User Preference Interface\n",
    "This is static, to ensure compareable results. But the possibility to generate answers based on given questions is implemented.\n"
   ]
  },
  {
   "cell_type": "code",
   "execution_count": 10,
   "id": "3f8bc161-52f4-41d4-a4c3-b597ac51a951",
   "metadata": {},
   "outputs": [],
   "source": [
    "questions = [   \n",
    "                \"How big do you want your house to be?\",\n",
    "                \"How much rooms should your house have?\",\n",
    "                \"What are 3 most important things for you in choosing this property?\", \n",
    "                \"Which amenities would you like?\", \n",
    "                \"Which transportation options are important to you?\",\n",
    "                \"How urban do you want your neighborhood to be?\",   \n",
    "            ]"
   ]
  },
  {
   "cell_type": "code",
   "execution_count": 11,
   "id": "339511f0-202b-4b78-a5da-9d46ce9be8a5",
   "metadata": {},
   "outputs": [],
   "source": [
    "def get_answers(questions: list):\n",
    "    answers_template = ChatPromptTemplate.from_template(\"\"\"\n",
    "    For the given questions {questions} generate answers for each question, that clarify the wishes of the client, who wants to buy a house. \n",
    "    Genrate one answer for each question, and numerate them.\n",
    "    \"\"\")\n",
    "    answers_prompt = answers_template.format(questions=questions)\n",
    "    return llm(answers_prompt).content"
   ]
  },
  {
   "cell_type": "code",
   "execution_count": 12,
   "id": "f54de14b-3148-4545-bc3b-b70f828f6a3c",
   "metadata": {},
   "outputs": [
    {
     "name": "stderr",
     "output_type": "stream",
     "text": [
      "C:\\Users\\Alexa\\envs\\udacity\\lib\\site-packages\\langchain_core\\_api\\deprecation.py:139: LangChainDeprecationWarning: The method `BaseChatModel.__call__` was deprecated in langchain-core 0.1.7 and will be removed in 0.3.0. Use invoke instead.\n",
      "  warn_deprecated(\n"
     ]
    },
    {
     "data": {
      "text/plain": [
       "'1. I would like my house to be around 2,000 square feet. \\n2. I would prefer my house to have at least 3 bedrooms and 2 bathrooms. \\n3. The 3 most important things for me in choosing this property are a safe neighborhood, proximity to good schools, and access to outdoor recreational areas. \\n4. I would like amenities such as a swimming pool, a backyard patio, and a modern kitchen. \\n5. Important transportation options for me include easy access to public transportation, bike lanes, and major highways. \\n6. I would prefer my neighborhood to be moderately urban, with access to shopping and dining options within walking distance.'"
      ]
     },
     "execution_count": 12,
     "metadata": {},
     "output_type": "execute_result"
    }
   ],
   "source": [
    "get_answers(questions)"
   ]
  },
  {
   "cell_type": "code",
   "execution_count": 13,
   "id": "1d2ed2e0-77d4-4cf4-8c6f-4fcca38dd86f",
   "metadata": {},
   "outputs": [],
   "source": [
    "answers = [\n",
    "    \"A comfortable three-bedroom house with a spacious kitchen and a cozy living room.\",\n",
    "    \"A quiet neighborhood, good local schools, and convenient shopping options.\",\n",
    "    \"A backyard for gardening, a two-car garage, and a modern, energy-efficient heating system.\",\n",
    "    \"Easy access to a reliable bus line, proximity to a major highway, and bike-friendly roads.\",\n",
    "    \"A balance between suburban tranquility and access to urban amenities like restaurants and theaters.\"\n",
    "]"
   ]
  },
  {
   "cell_type": "code",
   "execution_count": 14,
   "id": "096a8b95-3e37-46c0-9f41-46e0bb0423b7",
   "metadata": {},
   "outputs": [],
   "source": [
    "embedded_answers = generate_embedding(answers)"
   ]
  },
  {
   "cell_type": "markdown",
   "id": "98fe3967-67af-418b-b70f-f7ed68b5d34a",
   "metadata": {},
   "source": [
    "# Step 5: Searching Based on Preferences\n",
    "With the generated embedded answers, to a search on the lancedb table, sort the results based on the mean value _distance grouped by house_ids."
   ]
  },
  {
   "cell_type": "code",
   "execution_count": 15,
   "id": "ace2868c-c898-4b66-ac0d-9f20c25be144",
   "metadata": {},
   "outputs": [],
   "source": [
    "results = []\n",
    "for e_answer in embedded_answers:\n",
    "    results.append(table.search(e_answer).limit(5).to_pandas())\n",
    "df_results = pd.concat(results)\n",
    "houses_sorted = df_results.groupby('house_id')['_distance'].mean().sort_values()"
   ]
  },
  {
   "cell_type": "code",
   "execution_count": 16,
   "id": "33284c31-59e1-4ae5-865e-3e876db9dded",
   "metadata": {},
   "outputs": [],
   "source": [
    "house_to_suggest = df_results[df_results['house_id']==houses_sorted.idxmin()].drop_duplicates(subset=['house_id'])"
   ]
  },
  {
   "cell_type": "code",
   "execution_count": 17,
   "id": "5bbca6b6-3b33-4a30-817f-33ae8ab1d4f3",
   "metadata": {},
   "outputs": [],
   "source": [
    "house_description = '\\n '.join(col for col in house_to_suggest.iloc[0].get(['Description', 'NeighborhoodDescription']).to_dict().values())"
   ]
  },
  {
   "cell_type": "markdown",
   "id": "36a07748-2222-4804-8c5d-09ef8ec98d62",
   "metadata": {},
   "source": [
    "# Step 6 Personalizing Listing Descriptions"
   ]
  },
  {
   "cell_type": "code",
   "execution_count": 18,
   "id": "440b5bc0-1bd0-45f6-b903-e18bd87a22a6",
   "metadata": {},
   "outputs": [],
   "source": [
    "def personalize_listing(answers: list, questions: list, house_description: str):\n",
    "    personalize_template = \"\"\"\n",
    "    For the given answers {answers} based on the questions {questions}, create a personalized suggestion for the house with the description {house_description}.\n",
    "    \"\"\"\n",
    "    personalize_prompt = ChatPromptTemplate.from_template(personalize_template).format(answers=answers, questions=questions, house_description=house_description)\n",
    "    return llm(personalize_prompt).content"
   ]
  },
  {
   "cell_type": "code",
   "execution_count": 19,
   "id": "5e3ea9ba-2034-4b53-8578-ba9499a7d759",
   "metadata": {},
   "outputs": [],
   "source": [
    "personalized_listing = personalize_listing(answers, questions, house_description)"
   ]
  },
  {
   "cell_type": "code",
   "execution_count": 20,
   "id": "a4b4b418-27d4-4152-b510-405bca929bbd",
   "metadata": {},
   "outputs": [
    {
     "name": "stdout",
     "output_type": "stream",
     "text": [
      "Based on your answers, it seems like you are looking for a cozy and comfortable house in a quiet neighborhood with good local schools and convenient shopping options. You also mentioned wanting a backyard for gardening, a two-car garage, and modern amenities like an energy-efficient heating system. In terms of transportation, you value easy access to a reliable bus line and bike-friendly roads. Additionally, you mentioned wanting a balance between suburban tranquility and urban amenities.\n",
      "\n",
      "With that in mind, I would suggest considering a house in the charming Green Oaks neighborhood. This cozy house offers three bedrooms and two bathrooms, providing ample space for a small family or individuals looking for a peaceful retreat. Priced at $144,769, this property is affordable and offers a manageable living space of 509 square feet.\n",
      "\n",
      "The Green Oaks neighborhood is known for its top-rated schools, convenient shopping options, and peaceful surroundings. The house features a well-maintained lawn, a front porch, and modern amenities like an energy-efficient heating system. With easy access to a reliable bus line and bike-friendly roads, transportation options are convenient for residents.\n",
      "\n",
      "Overall, this house in Green Oaks provides a perfect balance between suburban tranquility and access to urban amenities like restaurants and theaters. It is a charming and affordable option for those looking for a cozy and welcoming home in a peaceful neighborhood.\n"
     ]
    }
   ],
   "source": [
    "print(personalized_listing)"
   ]
  },
  {
   "cell_type": "code",
   "execution_count": null,
   "id": "91b8fc5e-870e-48d9-88d9-270ada27c34d",
   "metadata": {},
   "outputs": [],
   "source": []
  }
 ],
 "metadata": {
  "kernelspec": {
   "display_name": "Python 3 (ipykernel)",
   "language": "python",
   "name": "python3"
  },
  "language_info": {
   "codemirror_mode": {
    "name": "ipython",
    "version": 3
   },
   "file_extension": ".py",
   "mimetype": "text/x-python",
   "name": "python",
   "nbconvert_exporter": "python",
   "pygments_lexer": "ipython3",
   "version": "3.9.7"
  }
 },
 "nbformat": 4,
 "nbformat_minor": 5
}
